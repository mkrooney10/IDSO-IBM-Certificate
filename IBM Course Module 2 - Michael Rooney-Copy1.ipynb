{
 "cells": [
  {
   "cell_type": "markdown",
   "id": "e85bfd23",
   "metadata": {},
   "source": [
    "# IBM Course Module 2 - Final Assignment"
   ]
  },
  {
   "cell_type": "markdown",
   "id": "905cb143",
   "metadata": {},
   "source": [
    "Introduction - This project serves as a final assignment for coursework as part of the IBM Data Science Program"
   ]
  },
  {
   "cell_type": "markdown",
   "id": "4ccc7a4a",
   "metadata": {},
   "source": [
    "There are several common data science languages, including R, python, SQL, Julia, Java, among others. "
   ]
  },
  {
   "cell_type": "markdown",
   "id": "ca105d42",
   "metadata": {},
   "source": [
    "Among different languages, there are also many data science libraries. For example, in R, common libraries used for data science including ggplot for visualization and dyplr for data manipulation. In python, common data science libraries are NumPy, SciKit-learn, and TensorFlow."
   ]
  },
  {
   "cell_type": "markdown",
   "id": "89f07418",
   "metadata": {},
   "source": [
    "Data science tools include data visualization tools such as Tableau, statistical softwares including SAS and R, and other analytic softwares such as ApacheSpark"
   ]
  },
  {
   "cell_type": "markdown",
   "id": "ad48cad7",
   "metadata": {},
   "source": [
    "Some examples of arithmetic include addition, subraction, and multiplication/division, as shown in the code below:"
   ]
  },
  {
   "cell_type": "code",
   "execution_count": 3,
   "id": "e8f2b03d",
   "metadata": {},
   "outputs": [
    {
     "data": {
      "text/plain": [
       "9"
      ]
     },
     "execution_count": 3,
     "metadata": {},
     "output_type": "execute_result"
    }
   ],
   "source": [
    "a = 1\n",
    "b = 2\n",
    "c = 3\n",
    "\n",
    "(a+b)*c\n",
    "\n"
   ]
  },
  {
   "cell_type": "code",
   "execution_count": 5,
   "id": "5fefd62c",
   "metadata": {},
   "outputs": [
    {
     "data": {
      "text/plain": [
       "4.0"
      ]
     },
     "execution_count": 5,
     "metadata": {},
     "output_type": "execute_result"
    }
   ],
   "source": [
    "minutes = 240\n",
    "\n",
    "hours = minutes/60\n",
    "\n",
    "hours"
   ]
  },
  {
   "cell_type": "markdown",
   "id": "677b3e7e",
   "metadata": {},
   "source": [
    "Objectives include: creating a publically avaialble jupytper notebook and performing simple code executions"
   ]
  },
  {
   "cell_type": "markdown",
   "id": "bf3a0a30",
   "metadata": {},
   "source": [
    "### Author: Michael Rooney, MD Anderson Cancer Center Institue for Data Science in Oncology "
   ]
  },
  {
   "cell_type": "code",
   "execution_count": null,
   "id": "e6d03037",
   "metadata": {},
   "outputs": [],
   "source": []
  }
 ],
 "metadata": {
  "kernelspec": {
   "display_name": "Python 3 (ipykernel)",
   "language": "python",
   "name": "python3"
  },
  "language_info": {
   "codemirror_mode": {
    "name": "ipython",
    "version": 3
   },
   "file_extension": ".py",
   "mimetype": "text/x-python",
   "name": "python",
   "nbconvert_exporter": "python",
   "pygments_lexer": "ipython3",
   "version": "3.11.5"
  }
 },
 "nbformat": 4,
 "nbformat_minor": 5
}
